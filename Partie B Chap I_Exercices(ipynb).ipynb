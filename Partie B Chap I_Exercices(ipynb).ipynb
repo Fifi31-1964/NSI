{
 "cells": [
  {
   "cell_type": "markdown",
   "metadata": {},
   "source": [
    "### Il faut compléter le code, éxécuter la cellule **PUIS** exécuter la cellule suivante pour \"passer\" le test.###"
   ]
  },
  {
   "cell_type": "markdown",
   "metadata": {},
   "source": [
    "## **Activité 1 (Manipulation de listes).**"
   ]
  },
  {
   "cell_type": "markdown",
   "metadata": {},
   "source": [
    "**1. Rotation**\n",
    "\n",
    "Programmer une fonction *rotation(liste)* qui décale d’un rang tous les éléments d’une liste (le dernier élément devenant le premier). La fonction renvoie une nouvelle liste.\n",
    "Par exemple rotation([1,2,3,4])renvoie la liste [4,1,2,3]."
   ]
  },
  {
   "cell_type": "code",
   "execution_count": 9,
   "metadata": {},
   "outputs": [],
   "source": [
    "def rotation(liste):\n",
    "    ...\n",
    "    return new_liste"
   ]
  },
  {
   "cell_type": "code",
   "execution_count": null,
   "metadata": {},
   "outputs": [],
   "source": [
    "# Test\n",
    "print(\"--- Rotation ---\")\n",
    "print(rotation([1,2,3,4]))\n",
    "print(\"ok\")"
   ]
  },
  {
   "cell_type": "markdown",
   "metadata": {},
   "source": [
    "**2. Insersion**\n",
    "\n",
    "Programmer une fonction *inverser(liste)* qui inverse l’ordre des éléments d’une liste.\n",
    "Par exemple *inverser([1,2,3,4])* renvoie la liste [4,3,2,1]."
   ]
  },
  {
   "cell_type": "code",
   "execution_count": 6,
   "metadata": {},
   "outputs": [],
   "source": [
    "def inverser(liste):\n",
    "    ...\n",
    "    return new_liste"
   ]
  },
  {
   "cell_type": "code",
   "execution_count": null,
   "metadata": {},
   "outputs": [],
   "source": [
    "# Test\n",
    "print(\"--- Inverse ---\")\n",
    "print(inverser([1,2,3,4]))\n",
    "print(\"ok\")"
   ]
  },
  {
   "cell_type": "markdown",
   "metadata": {},
   "source": [
    "**3. Suppression**\n",
    " \n",
    "Programmer une fonction *supprimer_element(liste,element)* renvoyant une liste qui contient tous les éléments sauf ceux égaux à l’élément spécifié.\n",
    "Par exemple *supprimer_element([8,7,4,6,5,4],4)* renvoie la liste [8,7,6,5](tous les éléments égaux à 4 ont été supprimés)."
   ]
  },
  {
   "cell_type": "code",
   "execution_count": 2,
   "metadata": {},
   "outputs": [],
   "source": [
    "def supprimer_element(liste,element):\n",
    "    ...\n",
    "    return new_liste"
   ]
  },
  {
   "cell_type": "code",
   "execution_count": null,
   "metadata": {},
   "outputs": [],
   "source": [
    "# Test\n",
    "print(\"--- Supprimer élément ---\")\n",
    "print(supprimer_element([8,7,4,6,5,4],4))\n",
    "print(\"ok\")"
   ]
  },
  {
   "cell_type": "markdown",
   "metadata": {},
   "source": [
    "**4. Listes par compréhension**\n",
    "\n",
    "Créer les listes suivantes à l'aide des listes par compréhension :\n",
    "\n",
    " * X = [0.1, 0.2, 0.3, ..., 1.9, 2]\n",
    " \n",
    " * Y = [(0.1)<sup>3</sup>, (0.2)<sup>3</sup>, (0.3)<sup>3</sup>, ..., (1.9)<sup>3</sup>, (2)<sup>3</sup>]\n",
    "    \n",
    " * Z = [$\\frac{1}{0.1}$, $\\frac{1}{0.2}$, $\\frac{1}{0.3}$, ..., $\\frac{1}{1.9}$, $\\frac{1}{2}$]"
   ]
  },
  {
   "cell_type": "code",
   "execution_count": null,
   "metadata": {},
   "outputs": [],
   "source": []
  },
  {
   "cell_type": "markdown",
   "metadata": {},
   "source": [
    "**5. Tuples**\n",
    "\n",
    "On souhaite définir une fonction *est_rectangle(t)* admmettant un triplet pour argument, ce triplet contenant les longueurs des côtés d'un triangle.\n",
    "a. Compléter le programme suivant afin de vérifier si le triangle est rectangle ou non."
   ]
  },
  {
   "cell_type": "code",
   "execution_count": null,
   "metadata": {},
   "outputs": [],
   "source": [
    "def est_rectangle(t):\n",
    "    if ... or ... or ... :\n",
    "        print(\"Ce triangle est rectangle.\")\n",
    "    else :\n",
    "        print(\"Ce triangle n'est pas rectangle.\")"
   ]
  },
  {
   "cell_type": "code",
   "execution_count": null,
   "metadata": {},
   "outputs": [],
   "source": [
    "# Test\n",
    "print(\"--- est_rectangle ---\")\n",
    "est_rectangle((5,3,4))\n",
    "print(\"ok\")"
   ]
  },
  {
   "cell_type": "markdown",
   "metadata": {},
   "source": [
    "## **Activité 2 (Intérêts simples ou composés).**\n",
    "\n",
    "**Objectifs : créer deux listes afin de comparer deux types d’intérêts.**\n",
    "\n",
    "**1.Intérêts simples.**\n",
    "   \n",
    "On dispose d’une somme S0. Chaque année ce placement rapporte des intérêts en fonction de la somme initiale.\n",
    "Par exemple avec une somme initiale S0 = 1000 et des intérêts simples de p = 10%. Les intérêts sont de 100. Donc au bout d’un an, je dispose d’une somme de S1 = 1100, au bout de deux ans S2 = 1200...\n",
    "\n",
    "Programmer une fonction *interets_simples(S0,p,n)* qui renvoie les listes des sommes des n premières années. Par exemple *interets_simples(1000,10,3)* renvoie [1000, 1100, 1200, 1300].\n",
    "\n",
    "**2.Intérêts composés.**\n",
    "\n",
    "Une somme S0 rapporte selon des intérêts composés. Cette fois les intérêts sontcalculés chaque année sur la base de la somme de l’année précédente, c’est-à-dire selon la formule :\n",
    "$I_n=+1 = S_n  \\times \\frac{p}{100}$ \n",
    "\n",
    "Programmer une fonction *interets_composes(S0,p,n)* qui renvoie la liste des sommes des n premières années. Par exemple *interets_composes(1000,10,3)* renvoie [1000, 1100, 1210, 1331].\n",
    "\n",
    "**3.** J’ai le choix entre un placement à intérêts simples de 10% et un placement à intérêts composés de 7%. Quelle est la solution la plus avantageuse en fonction de la durée du placement ?"
   ]
  },
  {
   "cell_type": "code",
   "execution_count": 10,
   "metadata": {},
   "outputs": [],
   "source": [
    "def interets_simples(S0,p,n):\n",
    "    liste = [S0]\n",
    "    interets = S0 * p/100\n",
    "    S = S0\n",
    "    ...\n",
    "    return liste"
   ]
  },
  {
   "cell_type": "code",
   "execution_count": null,
   "metadata": {},
   "outputs": [],
   "source": [
    "# Test\n",
    "print(\"--- Intérêts simples ---\")\n",
    "liste_interets_simples = interets_simples(1000,10,12)\n",
    "print(liste_interets_simples)\n",
    "print(liste_interets_simples[11])\n",
    "print(\"ok\")"
   ]
  },
  {
   "cell_type": "code",
   "execution_count": null,
   "metadata": {},
   "outputs": [],
   "source": [
    "def interets_composes(S0,p,n):\n",
    "    liste = [S0]\n",
    "    S = S0\n",
    "    ...\n",
    "    return liste"
   ]
  },
  {
   "cell_type": "code",
   "execution_count": null,
   "metadata": {},
   "outputs": [],
   "source": [
    "# Test\n",
    "print(\"--- Intérêts composés ---\")\n",
    "liste_interets_composes = interets_composes(1000,7,12)\n",
    "print(liste_interets_composes)\n",
    "print(liste_interets_composes[11])"
   ]
  },
  {
   "cell_type": "markdown",
   "metadata": {},
   "source": [
    "## **Activité 3 (Les dictionnaires).**\n",
    "\n",
    "**Le Scrabble**\n",
    "Le Scrabble est un jeu de société où l'on doit former des mots avec un tirage aléatoire de lettres, chaque lettre valant un certain nombre de points.\n",
    "Par exemple la lettre \"A\" vaut 1 point, la lettre \"B\" vaut 3 points, ...\n",
    "D'après Wikipedia, sur 102 jetons, on a :\n",
    "1 point : E ×15, A ×9, I ×8, N ×6, O ×6, R ×6, S ×6, T ×6, U ×6, L ×5\n",
    "2 points : D ×3, M ×3, G ×2\n",
    "3 points : B ×2, C ×2, P ×2\n",
    "4 points : F ×2, H ×2, V ×2\n",
    "8 points : J ×1, Q ×1\n",
    "10 points : K ×1, W ×1, X ×1, Y ×1, Z ×1\n",
    "\n",
    "Construire le dictionnaire associant à chacune des 26 lettres de l'alphabet sa valeur.\n",
    "\n",
    "Construisez un programme qui demande un mot et qui renvoie le résultats du total des points de ce mot."
   ]
  }
 ],
 "metadata": {
  "kernelspec": {
   "display_name": "Python 3",
   "language": "python",
   "name": "python3"
  },
  "language_info": {
   "codemirror_mode": {
    "name": "ipython",
    "version": 3
   },
   "file_extension": ".py",
   "mimetype": "text/x-python",
   "name": "python",
   "nbconvert_exporter": "python",
   "pygments_lexer": "ipython3",
   "version": "3.7.4"
  }
 },
 "nbformat": 4,
 "nbformat_minor": 2
}
