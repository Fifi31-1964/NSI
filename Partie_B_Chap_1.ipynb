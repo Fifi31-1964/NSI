{
  "nbformat": 4,
  "nbformat_minor": 0,
  "metadata": {
    "kernelspec": {
      "display_name": "Python 3",
      "language": "python",
      "name": "python3"
    },
    "language_info": {
      "codemirror_mode": {
        "name": "ipython",
        "version": 3
      },
      "file_extension": ".py",
      "mimetype": "text/x-python",
      "name": "python",
      "nbconvert_exporter": "python",
      "pygments_lexer": "ipython3",
      "version": "3.7.0"
    },
    "colab": {
      "name": "Partie B - Chap.1.ipynb",
      "provenance": [],
      "collapsed_sections": [],
      "toc_visible": true
    }
  },
  "cells": [
    {
      "cell_type": "markdown",
      "metadata": {
        "id": "hVmZR23dksAv",
        "colab_type": "text"
      },
      "source": [
        "# **Partie B Types construits- Chap.1 - Tuples et listes**"
      ]
    },
    {
      "cell_type": "markdown",
      "metadata": {
        "id": "W9mm7p69ksAz",
        "colab_type": "text"
      },
      "source": [
        "## **I. Les tuples**"
      ]
    },
    {
      "cell_type": "markdown",
      "metadata": {
        "id": "S6SYpwBcRu_c",
        "colab_type": "text"
      },
      "source": [
        "#### **Définition**"
      ]
    },
    {
      "cell_type": "markdown",
      "metadata": {
        "id": "kVDfqphDksA1",
        "colab_type": "text"
      },
      "source": [
        "Comme une chaîne de caractères, un tuple (ou n-uplets) est une suite ordonnée d'éléments (ou items), mais, par contre, ces éléments peuvent être de n'importe quel type."
      ]
    },
    {
      "cell_type": "markdown",
      "metadata": {
        "id": "OKQpNdVlmDFW",
        "colab_type": "text"
      },
      "source": [
        "Un tuple peut contenir plusieurs tuples"
      ]
    },
    {
      "cell_type": "code",
      "metadata": {
        "id": "fIAJ4Rq6ksA2",
        "colab_type": "code",
        "colab": {}
      },
      "source": [
        "t = 1,2,3,'bonjour'\n",
        "u = t,(4,5,6,'au revoir')\n",
        "print(type(t))\n",
        "u"
      ],
      "execution_count": 0,
      "outputs": []
    },
    {
      "cell_type": "markdown",
      "metadata": {
        "id": "RGQLtRzyYe_h",
        "colab_type": "text"
      },
      "source": [
        "len(t) représente la longueur du tuple."
      ]
    },
    {
      "cell_type": "code",
      "metadata": {
        "id": "uj7Lf5XbYkOL",
        "colab_type": "code",
        "colab": {}
      },
      "source": [
        "t = 1,2,3,'bonjour'\n",
        "u = t,(4,5,6,'au revoir')\n",
        "print(len(u))"
      ],
      "execution_count": 0,
      "outputs": []
    },
    {
      "cell_type": "markdown",
      "metadata": {
        "id": "wMoNzjjoksA9",
        "colab_type": "text"
      },
      "source": [
        "#### **Utilisation**"
      ]
    },
    {
      "cell_type": "markdown",
      "metadata": {
        "id": "tqq8ZZMtUrlV",
        "colab_type": "text"
      },
      "source": [
        "Accès à un élément indexé"
      ]
    },
    {
      "cell_type": "code",
      "metadata": {
        "id": "0QKrrYROksA_",
        "colab_type": "code",
        "colab": {}
      },
      "source": [
        "t = 1,2,3,'bonjour'\n",
        "t[0]"
      ],
      "execution_count": 0,
      "outputs": []
    },
    {
      "cell_type": "markdown",
      "metadata": {
        "id": "KVn-XMI0UxB3",
        "colab_type": "text"
      },
      "source": [
        "Il est aussi possible d'accéder à une partie du tuple."
      ]
    },
    {
      "cell_type": "code",
      "metadata": {
        "id": "XsAKcC9nU31v",
        "colab_type": "code",
        "colab": {}
      },
      "source": [
        "t = 1,2,3,'bonjour'\n",
        "t[2:4]  # de 2, compris, à 4, non compris"
      ],
      "execution_count": 0,
      "outputs": []
    },
    {
      "cell_type": "markdown",
      "metadata": {
        "id": "8AHkDBl0TZIo",
        "colab_type": "text"
      },
      "source": [
        "Attention, les indices commencent toujours à 0.\n",
        "Il est possible de numéroter à partir de la fin : le dernier élément ayant pour indice -1 (abréviation de (len(t)-1)."
      ]
    },
    {
      "cell_type": "code",
      "metadata": {
        "id": "EdBxe7ZPUZ5D",
        "colab_type": "code",
        "colab": {}
      },
      "source": [
        "t = 1,2,3,'bonjour'\n",
        "t[-2]"
      ],
      "execution_count": 0,
      "outputs": []
    },
    {
      "cell_type": "markdown",
      "metadata": {
        "id": "EA77i021VEW_",
        "colab_type": "text"
      },
      "source": [
        "Dans le cas de tuples emboîtés, c'est à dire un tuple contenant des tuples, si t[i] est un tuple, on accède aux éléments de ce tuple avec l'écriture t[i][j]."
      ]
    },
    {
      "cell_type": "code",
      "metadata": {
        "id": "nkkvFCr6V15q",
        "colab_type": "code",
        "colab": {}
      },
      "source": [
        "t = 'bonjour','au revoir'\n",
        "u = (1,2,3),t\n",
        "u"
      ],
      "execution_count": 0,
      "outputs": []
    },
    {
      "cell_type": "code",
      "metadata": {
        "id": "oGIqGX_GWT5C",
        "colab_type": "code",
        "colab": {}
      },
      "source": [
        "t = 'bonjour','au revoir'\n",
        "u = (1,2,3),t\n",
        "u[1][0]"
      ],
      "execution_count": 0,
      "outputs": []
    },
    {
      "cell_type": "markdown",
      "metadata": {
        "id": "srdikU3GksBF",
        "colab_type": "text"
      },
      "source": [
        "Les éléments d'un tuple ne sont pas modifiables par une affectation, on dit que le tuple est immuable."
      ]
    },
    {
      "cell_type": "code",
      "metadata": {
        "id": "IiDaymQWksBG",
        "colab_type": "code",
        "colab": {}
      },
      "source": [
        "t = 1,2,3,'bonjour'\n",
        "t[3] = 'au revoir'"
      ],
      "execution_count": 0,
      "outputs": []
    },
    {
      "cell_type": "markdown",
      "metadata": {
        "id": "QWfCNm-Tb5DF",
        "colab_type": "text"
      },
      "source": [
        "L'utilisation de tuples permet l'affectation multiple. Par exemple (a,b) = (1,2), que l'on peut écrire : a,b = 1,2 affecte les valeurs 1 et 2 respectivement aux variables a et b.\n",
        "On peut réaliser facilement la permutation de valeurs : a,b = b,a (les valeurs de a et de b sont alors échangées).\n",
        "Grace aux tuples, une fonction peut renvoyer plusieurs valeurs :"
      ]
    },
    {
      "cell_type": "code",
      "metadata": {
        "id": "w5Np9ftsd8Td",
        "colab_type": "code",
        "colab": {}
      },
      "source": [
        "def add(a, b):\n",
        "\tc = a + b\n",
        "\treturn (a, b, c)\n",
        "\n",
        "t = add(5, 8)\n",
        "#print(f\"{t[0]} + {t[1]} = {t[2]}\")\n",
        "print(t[0],\"+\",t[1],\"=\",t[2])"
      ],
      "execution_count": 0,
      "outputs": []
    },
    {
      "cell_type": "markdown",
      "metadata": {
        "id": "doQ7bpthhYJ8",
        "colab_type": "text"
      },
      "source": [
        "Ici, la variable t référence un tuple, renvoyé par la fonction add."
      ]
    },
    {
      "cell_type": "markdown",
      "metadata": {
        "id": "j4trGb9LksBK",
        "colab_type": "text"
      },
      "source": [
        "#### **Opérations**"
      ]
    },
    {
      "cell_type": "markdown",
      "metadata": {
        "id": "l_96kb3tksBL",
        "colab_type": "text"
      },
      "source": [
        "Les opérateurs + et * s'utilisent comme avec les chaînes de caractères. Ce sont des opérateurs de concaténation."
      ]
    },
    {
      "cell_type": "code",
      "metadata": {
        "id": "QcnBbFgzksBM",
        "colab_type": "code",
        "colab": {}
      },
      "source": [
        "t1 = 1,2,3\n",
        "t2 = 4,5\n",
        "t1 + t2\n",
        "# 3*t2"
      ],
      "execution_count": 0,
      "outputs": []
    },
    {
      "cell_type": "markdown",
      "metadata": {
        "id": "nhKoSEelksBR",
        "colab_type": "text"
      },
      "source": [
        "#### **Appartenance**"
      ]
    },
    {
      "cell_type": "markdown",
      "metadata": {
        "id": "Zs0HyT9dksBT",
        "colab_type": "text"
      },
      "source": [
        "L'appartenance à un tuple se teste avec l'opérateur **in**"
      ]
    },
    {
      "cell_type": "code",
      "metadata": {
        "id": "pXaGaafblLG1",
        "colab_type": "code",
        "colab": {}
      },
      "source": [
        "t = 1,2,3\n",
        "2 in t"
      ],
      "execution_count": 0,
      "outputs": []
    },
    {
      "cell_type": "markdown",
      "metadata": {
        "id": "CDs1xa2oleu0",
        "colab_type": "text"
      },
      "source": [
        "## **II. Les listes**"
      ]
    },
    {
      "cell_type": "markdown",
      "metadata": {
        "id": "18spzxH7lZnP",
        "colab_type": "text"
      },
      "source": [
        "#### **Définition**"
      ]
    },
    {
      "cell_type": "markdown",
      "metadata": {
        "id": "gqztGJFsl1Cb",
        "colab_type": "text"
      },
      "source": [
        "Le type *list* accepte les affectations et est généralement utilisé pour une suite homogène d'éléments.\n",
        "Une liste peut contenir des listes : ma_liste = [[1,2],[3,4],[5,6]]"
      ]
    },
    {
      "cell_type": "markdown",
      "metadata": {
        "id": "l2kGVfrDm_RB",
        "colab_type": "text"
      },
      "source": [
        "Pour écrire une liste comprenant un nombre important d'éléments, on peut utiliser les fonctions *list* et *range* pour initialiser une liste d'entiers."
      ]
    },
    {
      "cell_type": "code",
      "metadata": {
        "id": "EjBT8lAqnypX",
        "colab_type": "code",
        "colab": {}
      },
      "source": [
        "liste1 = list(range(4))\n",
        "liste1"
      ],
      "execution_count": 0,
      "outputs": []
    },
    {
      "cell_type": "code",
      "metadata": {
        "id": "9oVSm0EEoB30",
        "colab_type": "code",
        "colab": {}
      },
      "source": [
        "liste2 = list(range(3,6))\n",
        "liste2"
      ],
      "execution_count": 0,
      "outputs": []
    },
    {
      "cell_type": "code",
      "metadata": {
        "id": "nuP7ich9oK1L",
        "colab_type": "code",
        "colab": {}
      },
      "source": [
        "liste3 = list(range(3,11,2))\n",
        "liste3"
      ],
      "execution_count": 0,
      "outputs": []
    },
    {
      "cell_type": "markdown",
      "metadata": {
        "id": "wCUiNivBoZVz",
        "colab_type": "text"
      },
      "source": [
        "Il est aussi possible d'utiliser une boucle *for* et la méthose *append* (pour ajouter l'élément x à la fin de la liste *toto*, on utilise la syntaxe toto.append(x) :"
      ]
    },
    {
      "cell_type": "code",
      "metadata": {
        "id": "_yaE5G82on0l",
        "colab_type": "code",
        "colab": {}
      },
      "source": [
        "pairs = []\n",
        "for n in range(10):\n",
        "  pairs.append(2*n)\n",
        "pairs"
      ],
      "execution_count": 0,
      "outputs": []
    },
    {
      "cell_type": "markdown",
      "metadata": {
        "id": "tO8RqIBoqS29",
        "colab_type": "text"
      },
      "source": [
        "Attention, une variable n est alors créee et elle existe toujours lorsque la boucle est terminée. Cela peut poser un problème si la variable n existait déjà."
      ]
    },
    {
      "cell_type": "code",
      "metadata": {
        "id": "-2WbUdHWqqj0",
        "colab_type": "code",
        "colab": {}
      },
      "source": [
        "pairs = []\n",
        "for n in range(10):\n",
        "  pairs.append(2*n)\n",
        "n"
      ],
      "execution_count": 0,
      "outputs": []
    },
    {
      "cell_type": "markdown",
      "metadata": {
        "id": "LKBWA6YTq9P_",
        "colab_type": "text"
      },
      "source": [
        "## **III. Consruction par compréhension**"
      ]
    },
    {
      "cell_type": "markdown",
      "metadata": {
        "id": "HpyM_u0JypfX",
        "colab_type": "text"
      },
      "source": [
        "La compréhension de liste est une expression qui permet de construire une liste à partir de tout autre type itérable (liste, tuple, chaîne de caractères…). Le résultat obtenu est toujours une liste.\n",
        "De manière générale, l'instruction est **[expression(i) for i in objet]** où **expression(i)** est une expression dépendant de **i** et **objet** est un objet sur lequel on peut itérer."
      ]
    },
    {
      "cell_type": "code",
      "metadata": {
        "id": "z9HpFJDo17FI",
        "colab_type": "code",
        "colab": {}
      },
      "source": [
        "nombres = [5,11,3,17,15]\n",
        "pairs = [2*n for n in nombres]\n",
        "pairs"
      ],
      "execution_count": 0,
      "outputs": []
    },
    {
      "cell_type": "markdown",
      "metadata": {
        "id": "Gia7uSgX27dB",
        "colab_type": "text"
      },
      "source": [
        "L'expression peut être une fonction :"
      ]
    },
    {
      "cell_type": "code",
      "metadata": {
        "id": "f0kpvA-I3Pvg",
        "colab_type": "code",
        "colab": {}
      },
      "source": [
        "def f(x):\n",
        "  return x**2\n",
        "\n",
        "liste1 = list(range(-6,10))\n",
        "liste2 = [f(u) for u in liste1]\n",
        "liste2"
      ],
      "execution_count": 0,
      "outputs": []
    },
    {
      "cell_type": "markdown",
      "metadata": {
        "id": "8XU4ddOL3yKx",
        "colab_type": "text"
      },
      "source": [
        "#### **Méthodes**"
      ]
    },
    {
      "cell_type": "markdown",
      "metadata": {
        "id": "gITsV1X5334H",
        "colab_type": "text"
      },
      "source": [
        "*L'acces aux valeurs utilise la même syntaxe que les tuples.* \n",
        "\n",
        "Pour insérer un élément à un endroit précis, on dispose de la méthode insert."
      ]
    },
    {
      "cell_type": "code",
      "metadata": {
        "id": "oAJm_qa44J2x",
        "colab_type": "code",
        "colab": {}
      },
      "source": [
        "liste = [1,3,7,9]\n",
        "liste.insert(2,5) #on insère à l'index 2 l'élément 5\n",
        "liste"
      ],
      "execution_count": 0,
      "outputs": []
    },
    {
      "cell_type": "markdown",
      "metadata": {
        "id": "5NCZnWjU55Jd",
        "colab_type": "text"
      },
      "source": [
        "Pour supprimer un élément, plusieurs cas peuvent exister :\n",
        "- on connait l'élément à supprimer, on utilise alors la méthode *remove()* qui supprime cet élément dès qu'il le rencontre\n",
        "- on connait son indice et on souhaite récupérer sa valeur, on utilise la méthode *pop()*"
      ]
    },
    {
      "cell_type": "code",
      "metadata": {
        "id": "uuqzDw6X6YAk",
        "colab_type": "code",
        "colab": {}
      },
      "source": [
        "liste = [1,2,1,2,1,2]\n",
        "liste.remove(2)\n",
        "liste"
      ],
      "execution_count": 0,
      "outputs": []
    },
    {
      "cell_type": "code",
      "metadata": {
        "id": "ErJW9xjO61Qp",
        "colab_type": "code",
        "colab": {}
      },
      "source": [
        "liste = [1,2,1,2,1,2]\n",
        "a = liste.pop(1)\n",
        "print(a)\n",
        "print(liste)"
      ],
      "execution_count": 0,
      "outputs": []
    },
    {
      "cell_type": "markdown",
      "metadata": {
        "id": "NrFK_6DV-aOp",
        "colab_type": "text"
      },
      "source": [
        "On peut connaître l'indice de la première occurence d'un élément x dans une liste avec la méthode *index(x)*."
      ]
    },
    {
      "cell_type": "code",
      "metadata": {
        "id": "U28P-OEWEQe3",
        "colab_type": "code",
        "colab": {}
      },
      "source": [
        "liste = [1,2,1,2,1,2]\n",
        "liste.index(2)"
      ],
      "execution_count": 0,
      "outputs": []
    },
    {
      "cell_type": "markdown",
      "metadata": {
        "id": "TdxBrJ_47nTv",
        "colab_type": "text"
      },
      "source": [
        "La fonction *del()* permet aussi de supprimer un élément en donnant son indice mais la valeur de l'élément est alors perdue."
      ]
    },
    {
      "cell_type": "code",
      "metadata": {
        "id": "sQMTUz4V72Oi",
        "colab_type": "code",
        "outputId": "d1416392-a2aa-4b62-a6a5-e9544c57fd3a",
        "colab": {
          "base_uri": "https://localhost:8080/",
          "height": 34
        }
      },
      "source": [
        "liste = [1,2,1,2,1,2]\n",
        "del (liste[1]) # ou del liste[1]\n",
        "liste"
      ],
      "execution_count": 0,
      "outputs": [
        {
          "output_type": "execute_result",
          "data": {
            "text/plain": [
              "[1, 1, 2, 1, 2]"
            ]
          },
          "metadata": {
            "tags": []
          },
          "execution_count": 49
        }
      ]
    },
    {
      "cell_type": "markdown",
      "metadata": {
        "id": "8DAd0RHx7K4i",
        "colab_type": "text"
      },
      "source": [
        "On peut obtenir le nombre d'occurences d'un élément dans une liste avec la méthode *count()*\n"
      ]
    },
    {
      "cell_type": "code",
      "metadata": {
        "id": "kv1tYj557Yuh",
        "colab_type": "code",
        "colab": {}
      },
      "source": [
        "liste = [1,2,1,2,1,2]\n",
        "liste.count(2)"
      ],
      "execution_count": 0,
      "outputs": []
    },
    {
      "cell_type": "markdown",
      "metadata": {
        "id": "6LSMfYiP8pOg",
        "colab_type": "text"
      },
      "source": [
        "La méthode *sort()* sert à trier une liste."
      ]
    },
    {
      "cell_type": "code",
      "metadata": {
        "id": "6X50OMWr8wB_",
        "colab_type": "code",
        "colab": {}
      },
      "source": [
        "liste = [4,1,6,2,5,3]\n",
        "liste.sort()\n",
        "liste"
      ],
      "execution_count": 0,
      "outputs": []
    },
    {
      "cell_type": "markdown",
      "metadata": {
        "id": "nfto7WVZ9H0Z",
        "colab_type": "text"
      },
      "source": [
        "La méthode reverse() inverse l'ordre des éléments d'une liste."
      ]
    },
    {
      "cell_type": "code",
      "metadata": {
        "id": "_z2RHgh09QGf",
        "colab_type": "code",
        "colab": {}
      },
      "source": [
        "liste = [4,1,6,2,5,3]\n",
        "liste.reverse()\n",
        "liste"
      ],
      "execution_count": 0,
      "outputs": []
    },
    {
      "cell_type": "markdown",
      "metadata": {
        "id": "l4OIWhHhHRjU",
        "colab_type": "text"
      },
      "source": [
        "Pour obtenir une liste triée sans la modifier, on peut utiliser la fonction *sorted()*"
      ]
    },
    {
      "cell_type": "code",
      "metadata": {
        "id": "eWgF_WxpHg2M",
        "colab_type": "code",
        "colab": {}
      },
      "source": [
        "liste1 = [3,5,2,6,1,4]\n",
        "liste2 = sorted(liste1)\n",
        "print(liste1)\n",
        "print(liste2)"
      ],
      "execution_count": 0,
      "outputs": []
    }
  ]
}