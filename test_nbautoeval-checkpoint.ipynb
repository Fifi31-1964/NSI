{
 "cells": [
  {
   "cell_type": "code",
   "execution_count": 5,
   "metadata": {},
   "outputs": [],
   "source": [
    "from exos.corrections import exo_isPrime"
   ]
  },
  {
   "cell_type": "code",
   "execution_count": 6,
   "metadata": {},
   "outputs": [
    {
     "data": {
      "text/html": [
       "<table style='font-family:monospace;font-size:small;'><tr style='font-family:monospace;font-size:medium;'><th style='text-align: center;'><pre>Appel</pre></th><th style='text-align: center;'><pre>Resultat Attendu</pre></th></tr><tr><td><pre>isPrime(1)</pre></td><td style='text-align: left;border-left:3px solid gray;'><pre>\n",
       "False</pre></td></tr><tr><td><pre>isPrime(2)</pre></td><td style='text-align: left;border-left:3px solid gray;'><pre>\n",
       "True</pre></td></tr><tr><td><pre>isPrime(3)</pre></td><td style='text-align: left;border-left:3px solid gray;'><pre>\n",
       "True</pre></td></tr><tr><td><pre>isPrime(5)</pre></td><td style='text-align: left;border-left:3px solid gray;'><pre>\n",
       "True</pre></td></tr></table>"
      ],
      "text/plain": [
       "<IPython.core.display.HTML object>"
      ]
     },
     "execution_count": 6,
     "metadata": {},
     "output_type": "execute_result"
    }
   ],
   "source": [
    "exo_isPrime.example(4)"
   ]
  },
  {
   "cell_type": "code",
   "execution_count": 15,
   "metadata": {},
   "outputs": [
    {
     "name": "stdout",
     "output_type": "stream",
     "text": [
      "False\n"
     ]
    }
   ],
   "source": [
    "def isPrime(n):\n",
    "    L=1\n",
    "    if n==1:\n",
    "        return False\n",
    "    if n in {2,3, 5, 7, 11, 13, 17, 19, 23, 29, 31}:\n",
    "        return True\n",
    "    elif n%2==0 or n%3==0 or n%5==0:\n",
    "        return False\n",
    "    else:\n",
    "        while L*L<n:\n",
    "            for inc in [6,4,2,4,2,4,6,2]:\n",
    "                L+=inc\n",
    "                if n%L==0:\n",
    "                    return False\n",
    "        return True\n",
    "print(isPrime(1))"
   ]
  },
  {
   "cell_type": "code",
   "execution_count": 16,
   "metadata": {},
   "outputs": [
    {
     "data": {
      "text/html": [
       "<table style='font-family:monospace;font-size:small;'><tr style='font-family:monospace;font-size:medium;'><th style='text-align: center;'><pre>Appel</pre></th><th style='text-align: center;'><pre>Attendu</pre></th><th style='text-align: center;'><pre>Obtenu</pre></th><th style='text-align: center;'><pre></pre></th></tr><tr style='background-color:#d6e9ce;border-bottom:2px solid gray;'><td><pre>isPrime(1)</pre></td><td style='text-align: left;border-left:3px solid gray;'><pre>\n",
       "False</pre></td><td style='text-align: left;border-left:1px solid gray;'><pre>\n",
       "False</pre></td><td style='border-left:3px solid gray;'><pre>OK</pre></td></tr><tr style='background-color:#d6e9ce;border-bottom:2px solid gray;'><td><pre>isPrime(2)</pre></td><td style='text-align: left;border-left:3px solid gray;'><pre>\n",
       "True</pre></td><td style='text-align: left;border-left:1px solid gray;'><pre>\n",
       "True</pre></td><td style='border-left:3px solid gray;'><pre>OK</pre></td></tr><tr style='background-color:#d6e9ce;border-bottom:2px solid gray;'><td><pre>isPrime(3)</pre></td><td style='text-align: left;border-left:3px solid gray;'><pre>\n",
       "True</pre></td><td style='text-align: left;border-left:1px solid gray;'><pre>\n",
       "True</pre></td><td style='border-left:3px solid gray;'><pre>OK</pre></td></tr><tr style='background-color:#d6e9ce;border-bottom:2px solid gray;'><td><pre>isPrime(5)</pre></td><td style='text-align: left;border-left:3px solid gray;'><pre>\n",
       "True</pre></td><td style='text-align: left;border-left:1px solid gray;'><pre>\n",
       "True</pre></td><td style='border-left:3px solid gray;'><pre>OK</pre></td></tr><tr style='background-color:#d6e9ce;border-bottom:2px solid gray;'><td><pre>isPrime(17)</pre></td><td style='text-align: left;border-left:3px solid gray;'><pre>\n",
       "True</pre></td><td style='text-align: left;border-left:1px solid gray;'><pre>\n",
       "True</pre></td><td style='border-left:3px solid gray;'><pre>OK</pre></td></tr><tr style='background-color:#d6e9ce;border-bottom:2px solid gray;'><td><pre>isPrime(1001)</pre></td><td style='text-align: left;border-left:3px solid gray;'><pre>\n",
       "False</pre></td><td style='text-align: left;border-left:1px solid gray;'><pre>\n",
       "False</pre></td><td style='border-left:3px solid gray;'><pre>OK</pre></td></tr></table>"
      ],
      "text/plain": [
       "<IPython.core.display.HTML object>"
      ]
     },
     "execution_count": 16,
     "metadata": {},
     "output_type": "execute_result"
    }
   ],
   "source": [
    "exo_isPrime.correction(isPrime)"
   ]
  },
  {
   "cell_type": "code",
   "execution_count": 17,
   "metadata": {},
   "outputs": [
    {
     "data": {
      "text/plain": [
       "False"
      ]
     },
     "execution_count": 17,
     "metadata": {},
     "output_type": "execute_result"
    }
   ],
   "source": [
    "isPrime(1)"
   ]
  },
  {
   "cell_type": "code",
   "execution_count": null,
   "metadata": {},
   "outputs": [],
   "source": []
  }
 ],
 "metadata": {
  "kernelspec": {
   "display_name": "Python 3",
   "language": "python",
   "name": "python3"
  },
  "language_info": {
   "codemirror_mode": {
    "name": "ipython",
    "version": 3
   },
   "file_extension": ".py",
   "mimetype": "text/x-python",
   "name": "python",
   "nbconvert_exporter": "python",
   "pygments_lexer": "ipython3",
   "version": "3.7.4"
  }
 },
 "nbformat": 4,
 "nbformat_minor": 2
}
