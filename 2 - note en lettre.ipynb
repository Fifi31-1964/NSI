{
 "cells": [
  {
   "cell_type": "markdown",
   "metadata": {},
   "source": [
    "# Convertir une note en lettre"
   ]
  },
  {
   "cell_type": "markdown",
   "metadata": {},
   "source": [
    "On souhaite convertir une note comprise entre 0 et 20 en une lettre (A, B, C, D), suivant les critères ci-dessous :  \n",
    "\n",
    "|       Note      | Lettre |\n",
    "|:---------------:|:------:|\n",
    "|  0 < Note <= 5  |    D   |\n",
    "|  5 < Note <= 10 |    C   |\n",
    "| 10 < Note <= 15 |    B   |\n",
    "| 15 < Note <= 20 |    A   |\n",
    "\n",
    "Pour cela, on réalise l'algorithme suivant :  \n",
    "___  \n",
    ">**_Fonction note en lettre(note) :  _**\n",
    "\n",
    "\n",
    ">Entrées : note : un réel  \n",
    ">Sortie : un affichage à l’écran  \n",
    "    \n",
    ">DEBUT  \n",
    ">>SI note < 5 :  \n",
    "    >>>   lettre ← ‘D’   \n",
    ">>\n",
    ">>   SINONSI note ≥ 5 ET note < 10 :  \n",
    "    >>>\tlettre ← ‘C’       \n",
    ">>\n",
    ">>\tSINONSI note ≥ 10 ET note < 15 :  \n",
    "    >>>\tlettre ← ‘B’      \n",
    ">>\n",
    ">>\tSINON  :  \n",
    "    >>>\tlettre ← ‘A’          \n",
    ">>\n",
    ">>\tFINSI  \n",
    ">>\n",
    ">>\tRetourner lettre  \n",
    ">\n",
    ">\tFIN  \n",
    "\n",
    "***\n",
    "\n",
    "Complétez la fonction ci-dessous, puis cliquez sur `Run` pour exécuter le code."
   ]
  },
  {
   "cell_type": "code",
   "execution_count": 1,
   "metadata": {},
   "outputs": [],
   "source": [
    "def note_en_lettre(note):\n",
    "    \"\"\" fonction qui convertit une note en une lettre\n",
    "    entrée : une note comprise entre 0 et 20 (bornes incluses)\n",
    "    sortie : une lettre A, B, C ou D\n",
    "    \"\"\"\n",
    "\n",
    "    ## Placez ici votre code\n",
    "    \n",
    "    return lettre"
   ]
  },
  {
   "cell_type": "markdown",
   "metadata": {},
   "source": [
    "Vérifiez que votre code fonctionne en exécutant les lignes ci-dessous (Si tout va bien vous obtenez que des indications :\n",
    "``` python \n",
    "True\n",
    "``` "
   ]
  },
  {
   "cell_type": "code",
   "execution_count": null,
   "metadata": {},
   "outputs": [],
   "source": [
    "# Jeu d'essai\n",
    "note_en_lettre(20)=='A'"
   ]
  },
  {
   "cell_type": "code",
   "execution_count": null,
   "metadata": {},
   "outputs": [],
   "source": [
    "note_en_lettre(15)=='A'"
   ]
  },
  {
   "cell_type": "code",
   "execution_count": null,
   "metadata": {},
   "outputs": [],
   "source": [
    "note_en_lettre(10)=='B'"
   ]
  },
  {
   "cell_type": "code",
   "execution_count": null,
   "metadata": {},
   "outputs": [],
   "source": [
    "note_en_lettre(5)=='C'"
   ]
  },
  {
   "cell_type": "code",
   "execution_count": null,
   "metadata": {},
   "outputs": [],
   "source": [
    "note_en_lettre(0)=='D'"
   ]
  },
  {
   "cell_type": "markdown",
   "metadata": {},
   "source": [
    "On souhaite connaître la lettre associée à la note 12,5. Indiquez dans la cellule ci-dessous la ligne de code qu'il faut exécuter."
   ]
  },
  {
   "cell_type": "code",
   "execution_count": null,
   "metadata": {},
   "outputs": [],
   "source": [
    "## Placez ici votre code"
   ]
  }
 ],
 "metadata": {
  "kernelspec": {
   "display_name": "Python 3",
   "language": "python",
   "name": "python3"
  },
  "language_info": {
   "codemirror_mode": {
    "name": "ipython",
    "version": 3
   },
   "file_extension": ".py",
   "mimetype": "text/x-python",
   "name": "python",
   "nbconvert_exporter": "python",
   "pygments_lexer": "ipython3",
   "version": "3.7.2"
  }
 },
 "nbformat": 4,
 "nbformat_minor": 2
}
